{
 "cells": [
  {
   "cell_type": "markdown",
   "id": "89ab45ae-7010-4e6a-a1a1-fd21148ff1be",
   "metadata": {},
   "source": [
    "## Import the necessary libraries"
   ]
  },
  {
   "cell_type": "code",
   "execution_count": 3,
   "id": "57396089-5247-40ec-8cce-31de823dcb67",
   "metadata": {},
   "outputs": [],
   "source": [
    "import numpy as np\n",
    "import pandas as pd\n",
    "import tensorflow as tf\n",
    "from tensorflow.keras.models import Sequential\n",
    "from tensorflow.keras.layers import Input, Dense, Dropout, Conv2D, MaxPooling2D, Flatten\n",
    "from tensorflow.keras.optimizers import Adam\n",
    "from tensorflow.keras.activations import swish\n",
    "from sklearn.preprocessing import LabelEncoder, MinMaxScaler\n",
    "from sklearn.model_selection import train_test_split\n",
    "import matplotlib.pyplot as plt"
   ]
  },
  {
   "cell_type": "markdown",
   "id": "b93ca102-1982-45d6-92db-ba6e57059a44",
   "metadata": {},
   "source": [
    "#### Read the CSV File"
   ]
  },
  {
   "cell_type": "code",
   "execution_count": 5,
   "id": "7456bfd1-7ad4-4359-8c13-4e1112087c33",
   "metadata": {},
   "outputs": [],
   "source": [
    "df = pd.read_csv(\"gemstone.csv\")"
   ]
  },
  {
   "cell_type": "code",
   "execution_count": 6,
   "id": "54b8c146-7409-4ed9-8db0-ba903c923f2c",
   "metadata": {},
   "outputs": [
    {
     "data": {
      "text/html": [
       "<div>\n",
       "<style scoped>\n",
       "    .dataframe tbody tr th:only-of-type {\n",
       "        vertical-align: middle;\n",
       "    }\n",
       "\n",
       "    .dataframe tbody tr th {\n",
       "        vertical-align: top;\n",
       "    }\n",
       "\n",
       "    .dataframe thead th {\n",
       "        text-align: right;\n",
       "    }\n",
       "</style>\n",
       "<table border=\"1\" class=\"dataframe\">\n",
       "  <thead>\n",
       "    <tr style=\"text-align: right;\">\n",
       "      <th></th>\n",
       "      <th>id</th>\n",
       "      <th>carat</th>\n",
       "      <th>cut</th>\n",
       "      <th>color</th>\n",
       "      <th>clarity</th>\n",
       "      <th>depth</th>\n",
       "      <th>table</th>\n",
       "      <th>x</th>\n",
       "      <th>y</th>\n",
       "      <th>z</th>\n",
       "      <th>price</th>\n",
       "    </tr>\n",
       "  </thead>\n",
       "  <tbody>\n",
       "    <tr>\n",
       "      <th>0</th>\n",
       "      <td>0</td>\n",
       "      <td>1.52</td>\n",
       "      <td>Premium</td>\n",
       "      <td>F</td>\n",
       "      <td>VS2</td>\n",
       "      <td>62.2</td>\n",
       "      <td>58.0</td>\n",
       "      <td>7.27</td>\n",
       "      <td>7.33</td>\n",
       "      <td>4.55</td>\n",
       "      <td>13619</td>\n",
       "    </tr>\n",
       "    <tr>\n",
       "      <th>1</th>\n",
       "      <td>1</td>\n",
       "      <td>2.03</td>\n",
       "      <td>Very Good</td>\n",
       "      <td>J</td>\n",
       "      <td>SI2</td>\n",
       "      <td>62.0</td>\n",
       "      <td>58.0</td>\n",
       "      <td>8.06</td>\n",
       "      <td>8.12</td>\n",
       "      <td>5.05</td>\n",
       "      <td>13387</td>\n",
       "    </tr>\n",
       "    <tr>\n",
       "      <th>2</th>\n",
       "      <td>2</td>\n",
       "      <td>0.70</td>\n",
       "      <td>Ideal</td>\n",
       "      <td>G</td>\n",
       "      <td>VS1</td>\n",
       "      <td>61.2</td>\n",
       "      <td>57.0</td>\n",
       "      <td>5.69</td>\n",
       "      <td>5.73</td>\n",
       "      <td>3.50</td>\n",
       "      <td>2772</td>\n",
       "    </tr>\n",
       "    <tr>\n",
       "      <th>3</th>\n",
       "      <td>3</td>\n",
       "      <td>0.32</td>\n",
       "      <td>Ideal</td>\n",
       "      <td>G</td>\n",
       "      <td>VS1</td>\n",
       "      <td>61.6</td>\n",
       "      <td>56.0</td>\n",
       "      <td>4.38</td>\n",
       "      <td>4.41</td>\n",
       "      <td>2.71</td>\n",
       "      <td>666</td>\n",
       "    </tr>\n",
       "    <tr>\n",
       "      <th>4</th>\n",
       "      <td>4</td>\n",
       "      <td>1.70</td>\n",
       "      <td>Premium</td>\n",
       "      <td>G</td>\n",
       "      <td>VS2</td>\n",
       "      <td>62.6</td>\n",
       "      <td>59.0</td>\n",
       "      <td>7.65</td>\n",
       "      <td>7.61</td>\n",
       "      <td>4.77</td>\n",
       "      <td>14453</td>\n",
       "    </tr>\n",
       "  </tbody>\n",
       "</table>\n",
       "</div>"
      ],
      "text/plain": [
       "   id  carat        cut color clarity  depth  table     x     y     z  price\n",
       "0   0   1.52    Premium     F     VS2   62.2   58.0  7.27  7.33  4.55  13619\n",
       "1   1   2.03  Very Good     J     SI2   62.0   58.0  8.06  8.12  5.05  13387\n",
       "2   2   0.70      Ideal     G     VS1   61.2   57.0  5.69  5.73  3.50   2772\n",
       "3   3   0.32      Ideal     G     VS1   61.6   56.0  4.38  4.41  2.71    666\n",
       "4   4   1.70    Premium     G     VS2   62.6   59.0  7.65  7.61  4.77  14453"
      ]
     },
     "execution_count": 6,
     "metadata": {},
     "output_type": "execute_result"
    }
   ],
   "source": [
    "df.head()"
   ]
  },
  {
   "cell_type": "markdown",
   "id": "7fe3610d-b081-4458-aebb-69a4293dbcac",
   "metadata": {},
   "source": [
    "##### We don't need the id column, so drop it"
   ]
  },
  {
   "cell_type": "code",
   "execution_count": 8,
   "id": "e0d7d14b-3dc6-4288-8263-b86a3a665ee5",
   "metadata": {},
   "outputs": [],
   "source": [
    "df = df.drop(labels = [\"id\"], axis = 1)"
   ]
  },
  {
   "cell_type": "code",
   "execution_count": 9,
   "id": "ba17123a-43f4-4f89-9005-a6bf4cd5e6ea",
   "metadata": {},
   "outputs": [
    {
     "data": {
      "text/html": [
       "<div>\n",
       "<style scoped>\n",
       "    .dataframe tbody tr th:only-of-type {\n",
       "        vertical-align: middle;\n",
       "    }\n",
       "\n",
       "    .dataframe tbody tr th {\n",
       "        vertical-align: top;\n",
       "    }\n",
       "\n",
       "    .dataframe thead th {\n",
       "        text-align: right;\n",
       "    }\n",
       "</style>\n",
       "<table border=\"1\" class=\"dataframe\">\n",
       "  <thead>\n",
       "    <tr style=\"text-align: right;\">\n",
       "      <th></th>\n",
       "      <th>carat</th>\n",
       "      <th>depth</th>\n",
       "      <th>table</th>\n",
       "      <th>x</th>\n",
       "      <th>y</th>\n",
       "      <th>z</th>\n",
       "      <th>price</th>\n",
       "    </tr>\n",
       "  </thead>\n",
       "  <tbody>\n",
       "    <tr>\n",
       "      <th>count</th>\n",
       "      <td>193573.000000</td>\n",
       "      <td>193573.000000</td>\n",
       "      <td>193573.000000</td>\n",
       "      <td>193573.000000</td>\n",
       "      <td>193573.000000</td>\n",
       "      <td>193573.000000</td>\n",
       "      <td>193573.000000</td>\n",
       "    </tr>\n",
       "    <tr>\n",
       "      <th>mean</th>\n",
       "      <td>0.790688</td>\n",
       "      <td>61.820574</td>\n",
       "      <td>57.227675</td>\n",
       "      <td>5.715312</td>\n",
       "      <td>5.720094</td>\n",
       "      <td>3.534246</td>\n",
       "      <td>3969.155414</td>\n",
       "    </tr>\n",
       "    <tr>\n",
       "      <th>std</th>\n",
       "      <td>0.462688</td>\n",
       "      <td>1.081704</td>\n",
       "      <td>1.918844</td>\n",
       "      <td>1.109422</td>\n",
       "      <td>1.102333</td>\n",
       "      <td>0.688922</td>\n",
       "      <td>4034.374138</td>\n",
       "    </tr>\n",
       "    <tr>\n",
       "      <th>min</th>\n",
       "      <td>0.200000</td>\n",
       "      <td>52.100000</td>\n",
       "      <td>49.000000</td>\n",
       "      <td>0.000000</td>\n",
       "      <td>0.000000</td>\n",
       "      <td>0.000000</td>\n",
       "      <td>326.000000</td>\n",
       "    </tr>\n",
       "    <tr>\n",
       "      <th>25%</th>\n",
       "      <td>0.400000</td>\n",
       "      <td>61.300000</td>\n",
       "      <td>56.000000</td>\n",
       "      <td>4.700000</td>\n",
       "      <td>4.710000</td>\n",
       "      <td>2.900000</td>\n",
       "      <td>951.000000</td>\n",
       "    </tr>\n",
       "    <tr>\n",
       "      <th>50%</th>\n",
       "      <td>0.700000</td>\n",
       "      <td>61.900000</td>\n",
       "      <td>57.000000</td>\n",
       "      <td>5.700000</td>\n",
       "      <td>5.720000</td>\n",
       "      <td>3.530000</td>\n",
       "      <td>2401.000000</td>\n",
       "    </tr>\n",
       "    <tr>\n",
       "      <th>75%</th>\n",
       "      <td>1.030000</td>\n",
       "      <td>62.400000</td>\n",
       "      <td>58.000000</td>\n",
       "      <td>6.510000</td>\n",
       "      <td>6.510000</td>\n",
       "      <td>4.030000</td>\n",
       "      <td>5408.000000</td>\n",
       "    </tr>\n",
       "    <tr>\n",
       "      <th>max</th>\n",
       "      <td>3.500000</td>\n",
       "      <td>71.600000</td>\n",
       "      <td>79.000000</td>\n",
       "      <td>9.650000</td>\n",
       "      <td>10.010000</td>\n",
       "      <td>31.300000</td>\n",
       "      <td>18818.000000</td>\n",
       "    </tr>\n",
       "  </tbody>\n",
       "</table>\n",
       "</div>"
      ],
      "text/plain": [
       "               carat          depth          table              x  \\\n",
       "count  193573.000000  193573.000000  193573.000000  193573.000000   \n",
       "mean        0.790688      61.820574      57.227675       5.715312   \n",
       "std         0.462688       1.081704       1.918844       1.109422   \n",
       "min         0.200000      52.100000      49.000000       0.000000   \n",
       "25%         0.400000      61.300000      56.000000       4.700000   \n",
       "50%         0.700000      61.900000      57.000000       5.700000   \n",
       "75%         1.030000      62.400000      58.000000       6.510000   \n",
       "max         3.500000      71.600000      79.000000       9.650000   \n",
       "\n",
       "                   y              z          price  \n",
       "count  193573.000000  193573.000000  193573.000000  \n",
       "mean        5.720094       3.534246    3969.155414  \n",
       "std         1.102333       0.688922    4034.374138  \n",
       "min         0.000000       0.000000     326.000000  \n",
       "25%         4.710000       2.900000     951.000000  \n",
       "50%         5.720000       3.530000    2401.000000  \n",
       "75%         6.510000       4.030000    5408.000000  \n",
       "max        10.010000      31.300000   18818.000000  "
      ]
     },
     "execution_count": 9,
     "metadata": {},
     "output_type": "execute_result"
    }
   ],
   "source": [
    "df.describe()"
   ]
  },
  {
   "cell_type": "markdown",
   "id": "61ac0403-7117-45fb-a067-40cdc18368c5",
   "metadata": {},
   "source": [
    "### Dropping dimentionless features from columns x, y, and z"
   ]
  },
  {
   "cell_type": "code",
   "execution_count": 11,
   "id": "84990186-4a67-4c60-b8f1-6539e805e9c9",
   "metadata": {},
   "outputs": [
    {
     "data": {
      "text/plain": [
       "(193563, 10)"
      ]
     },
     "execution_count": 11,
     "metadata": {},
     "output_type": "execute_result"
    }
   ],
   "source": [
    "df = df.drop(df[df[\"x\"]==0].index)\n",
    "df = df.drop(df[df[\"y\"]==0].index)\n",
    "df = df.drop(df[df[\"z\"]==0].index)\n",
    "df.shape"
   ]
  },
  {
   "cell_type": "markdown",
   "id": "74213533-0a33-4d78-bc5c-f94227b7df4e",
   "metadata": {},
   "source": [
    "### Eliminating the outliers from depth, table, y and z columns "
   ]
  },
  {
   "cell_type": "code",
   "execution_count": 13,
   "id": "a3e59d9f-6821-45f6-9605-836e81d845d7",
   "metadata": {},
   "outputs": [
    {
     "data": {
      "text/plain": [
       "(193561, 10)"
      ]
     },
     "execution_count": 13,
     "metadata": {},
     "output_type": "execute_result"
    }
   ],
   "source": [
    "df = df[(df[\"depth\"]<75)&(df[\"depth\"]>45)]\n",
    "df = df[(df[\"table\"]<80)&(df[\"table\"]>40)]\n",
    "df = df[(df[\"x\"]<30)]\n",
    "df = df[(df[\"y\"]<30)]\n",
    "df = df[(df[\"z\"]<30)&(df[\"z\"]>2)]\n",
    "df.shape"
   ]
  },
  {
   "cell_type": "markdown",
   "id": "279f3189-c6e9-4556-bdfe-971573ced14f",
   "metadata": {},
   "source": [
    "### Let us split the dataset into X(features) and y(labels)"
   ]
  },
  {
   "cell_type": "code",
   "execution_count": 15,
   "id": "cc308ae0-7bca-4a03-ae04-a56183b06fa8",
   "metadata": {},
   "outputs": [],
   "source": [
    "X = df.drop(labels=[\"price\"], axis=1)\n",
    "y = df[[\"price\"]]"
   ]
  },
  {
   "cell_type": "markdown",
   "id": "fddc0ec5-3d00-4385-97c5-bdc0719209a5",
   "metadata": {},
   "source": [
    "### We can change the columns CUT, COLOR, Clarity from qualitative into numerical, by using LabelEncoder"
   ]
  },
  {
   "cell_type": "code",
   "execution_count": 17,
   "id": "6f074194-9a53-4695-8ec5-13f63c7e0c68",
   "metadata": {},
   "outputs": [],
   "source": [
    "label_encoder = LabelEncoder()\n",
    "##X[\"cut\", \"color\", \"clarity\"] = label_encoder.fit_transform(X[\"cut\", \"color\", \"clarity\"]) it doesn't work altogether\n",
    "X[\"cut\"] = label_encoder.fit_transform(X[\"cut\"])\n",
    "X[\"color\"] = label_encoder.fit_transform(X[\"color\"])\n",
    "X[\"clarity\"] = label_encoder.fit_transform(X[\"clarity\"])"
   ]
  },
  {
   "cell_type": "code",
   "execution_count": 18,
   "id": "7c750b86-b3aa-455f-bfbc-08be9b34ac04",
   "metadata": {},
   "outputs": [
    {
     "data": {
      "text/html": [
       "<div>\n",
       "<style scoped>\n",
       "    .dataframe tbody tr th:only-of-type {\n",
       "        vertical-align: middle;\n",
       "    }\n",
       "\n",
       "    .dataframe tbody tr th {\n",
       "        vertical-align: top;\n",
       "    }\n",
       "\n",
       "    .dataframe thead th {\n",
       "        text-align: right;\n",
       "    }\n",
       "</style>\n",
       "<table border=\"1\" class=\"dataframe\">\n",
       "  <thead>\n",
       "    <tr style=\"text-align: right;\">\n",
       "      <th></th>\n",
       "      <th>carat</th>\n",
       "      <th>cut</th>\n",
       "      <th>color</th>\n",
       "      <th>clarity</th>\n",
       "      <th>depth</th>\n",
       "      <th>table</th>\n",
       "      <th>x</th>\n",
       "      <th>y</th>\n",
       "      <th>z</th>\n",
       "    </tr>\n",
       "  </thead>\n",
       "  <tbody>\n",
       "    <tr>\n",
       "      <th>0</th>\n",
       "      <td>1.52</td>\n",
       "      <td>3</td>\n",
       "      <td>2</td>\n",
       "      <td>5</td>\n",
       "      <td>62.2</td>\n",
       "      <td>58.0</td>\n",
       "      <td>7.27</td>\n",
       "      <td>7.33</td>\n",
       "      <td>4.55</td>\n",
       "    </tr>\n",
       "    <tr>\n",
       "      <th>1</th>\n",
       "      <td>2.03</td>\n",
       "      <td>4</td>\n",
       "      <td>6</td>\n",
       "      <td>3</td>\n",
       "      <td>62.0</td>\n",
       "      <td>58.0</td>\n",
       "      <td>8.06</td>\n",
       "      <td>8.12</td>\n",
       "      <td>5.05</td>\n",
       "    </tr>\n",
       "    <tr>\n",
       "      <th>2</th>\n",
       "      <td>0.70</td>\n",
       "      <td>2</td>\n",
       "      <td>3</td>\n",
       "      <td>4</td>\n",
       "      <td>61.2</td>\n",
       "      <td>57.0</td>\n",
       "      <td>5.69</td>\n",
       "      <td>5.73</td>\n",
       "      <td>3.50</td>\n",
       "    </tr>\n",
       "    <tr>\n",
       "      <th>3</th>\n",
       "      <td>0.32</td>\n",
       "      <td>2</td>\n",
       "      <td>3</td>\n",
       "      <td>4</td>\n",
       "      <td>61.6</td>\n",
       "      <td>56.0</td>\n",
       "      <td>4.38</td>\n",
       "      <td>4.41</td>\n",
       "      <td>2.71</td>\n",
       "    </tr>\n",
       "    <tr>\n",
       "      <th>4</th>\n",
       "      <td>1.70</td>\n",
       "      <td>3</td>\n",
       "      <td>3</td>\n",
       "      <td>5</td>\n",
       "      <td>62.6</td>\n",
       "      <td>59.0</td>\n",
       "      <td>7.65</td>\n",
       "      <td>7.61</td>\n",
       "      <td>4.77</td>\n",
       "    </tr>\n",
       "  </tbody>\n",
       "</table>\n",
       "</div>"
      ],
      "text/plain": [
       "   carat  cut  color  clarity  depth  table     x     y     z\n",
       "0   1.52    3      2        5   62.2   58.0  7.27  7.33  4.55\n",
       "1   2.03    4      6        3   62.0   58.0  8.06  8.12  5.05\n",
       "2   0.70    2      3        4   61.2   57.0  5.69  5.73  3.50\n",
       "3   0.32    2      3        4   61.6   56.0  4.38  4.41  2.71\n",
       "4   1.70    3      3        5   62.6   59.0  7.65  7.61  4.77"
      ]
     },
     "execution_count": 18,
     "metadata": {},
     "output_type": "execute_result"
    }
   ],
   "source": [
    "X.head()"
   ]
  },
  {
   "cell_type": "markdown",
   "id": "c7f80b83-45fe-43e3-bcc5-3080ad39c358",
   "metadata": {},
   "source": [
    "### To scale the values, we use MinMaxScaler in the dataset"
   ]
  },
  {
   "cell_type": "code",
   "execution_count": 20,
   "id": "424e4f3f-b02f-4c57-ba0f-c9ba949a4be8",
   "metadata": {},
   "outputs": [],
   "source": [
    "scaler = MinMaxScaler()\n",
    "scaled_features = scaler.fit_transform(X)\n",
    "scaled_label = scaler.fit_transform(y)"
   ]
  },
  {
   "cell_type": "markdown",
   "id": "913075f5-03f3-435e-b026-c79c36889721",
   "metadata": {},
   "source": [
    "### Reshape the data for CNN: (samples, height, width, channels)"
   ]
  },
  {
   "cell_type": "code",
   "execution_count": 22,
   "id": "7e4e723f-7dbc-4613-9c20-205a2a49d711",
   "metadata": {},
   "outputs": [],
   "source": [
    "X_reshaped = scaled_features.reshape(-1, 3, 3, 1)"
   ]
  },
  {
   "cell_type": "markdown",
   "id": "799dbcaf-3a4f-4056-99a0-0b7cbd7aec15",
   "metadata": {},
   "source": [
    "### Divide the data into train and test sets"
   ]
  },
  {
   "cell_type": "code",
   "execution_count": 24,
   "id": "9c15e2a0-4e38-4b06-9be3-807b13f3e177",
   "metadata": {},
   "outputs": [],
   "source": [
    "X_train, X_test, y_train, y_test = train_test_split(X_reshaped, scaled_label, test_size=0.15, random_state=42)"
   ]
  },
  {
   "cell_type": "markdown",
   "id": "6d2de44f-a718-46d5-9251-9f4170f6c04a",
   "metadata": {},
   "source": [
    "### Define the model structure"
   ]
  },
  {
   "cell_type": "code",
   "execution_count": 26,
   "id": "1aabc8bd-f505-482c-ac2f-035ce53532eb",
   "metadata": {},
   "outputs": [
    {
     "name": "stdout",
     "output_type": "stream",
     "text": [
      "Epoch 1/20\n",
      "\u001b[1m4388/4388\u001b[0m \u001b[32m━━━━━━━━━━━━━━━━━━━━\u001b[0m\u001b[37m\u001b[0m \u001b[1m8s\u001b[0m 2ms/step - loss: 0.0043 - mae: 0.0364 - val_loss: 0.0017 - val_mae: 0.0252\n",
      "Epoch 2/20\n",
      "\u001b[1m4388/4388\u001b[0m \u001b[32m━━━━━━━━━━━━━━━━━━━━\u001b[0m\u001b[37m\u001b[0m \u001b[1m6s\u001b[0m 1ms/step - loss: 0.0015 - mae: 0.0221 - val_loss: 0.0012 - val_mae: 0.0184\n",
      "Epoch 3/20\n",
      "\u001b[1m4388/4388\u001b[0m \u001b[32m━━━━━━━━━━━━━━━━━━━━\u001b[0m\u001b[37m\u001b[0m \u001b[1m6s\u001b[0m 1ms/step - loss: 0.0013 - mae: 0.0203 - val_loss: 0.0012 - val_mae: 0.0185\n",
      "Epoch 4/20\n",
      "\u001b[1m4388/4388\u001b[0m \u001b[32m━━━━━━━━━━━━━━━━━━━━\u001b[0m\u001b[37m\u001b[0m \u001b[1m7s\u001b[0m 1ms/step - loss: 0.0012 - mae: 0.0194 - val_loss: 0.0011 - val_mae: 0.0187\n",
      "Epoch 5/20\n",
      "\u001b[1m4388/4388\u001b[0m \u001b[32m━━━━━━━━━━━━━━━━━━━━\u001b[0m\u001b[37m\u001b[0m \u001b[1m6s\u001b[0m 1ms/step - loss: 0.0012 - mae: 0.0187 - val_loss: 0.0011 - val_mae: 0.0177\n",
      "Epoch 6/20\n",
      "\u001b[1m4388/4388\u001b[0m \u001b[32m━━━━━━━━━━━━━━━━━━━━\u001b[0m\u001b[37m\u001b[0m \u001b[1m7s\u001b[0m 1ms/step - loss: 0.0011 - mae: 0.0186 - val_loss: 0.0012 - val_mae: 0.0210\n",
      "Epoch 7/20\n",
      "\u001b[1m4388/4388\u001b[0m \u001b[32m━━━━━━━━━━━━━━━━━━━━\u001b[0m\u001b[37m\u001b[0m \u001b[1m6s\u001b[0m 1ms/step - loss: 0.0011 - mae: 0.0182 - val_loss: 0.0011 - val_mae: 0.0176\n",
      "Epoch 8/20\n",
      "\u001b[1m4388/4388\u001b[0m \u001b[32m━━━━━━━━━━━━━━━━━━━━\u001b[0m\u001b[37m\u001b[0m \u001b[1m6s\u001b[0m 1ms/step - loss: 0.0011 - mae: 0.0181 - val_loss: 0.0012 - val_mae: 0.0189\n",
      "Epoch 9/20\n",
      "\u001b[1m4388/4388\u001b[0m \u001b[32m━━━━━━━━━━━━━━━━━━━━\u001b[0m\u001b[37m\u001b[0m \u001b[1m7s\u001b[0m 2ms/step - loss: 0.0011 - mae: 0.0180 - val_loss: 0.0011 - val_mae: 0.0187\n",
      "Epoch 10/20\n",
      "\u001b[1m4388/4388\u001b[0m \u001b[32m━━━━━━━━━━━━━━━━━━━━\u001b[0m\u001b[37m\u001b[0m \u001b[1m7s\u001b[0m 2ms/step - loss: 0.0011 - mae: 0.0177 - val_loss: 0.0011 - val_mae: 0.0182\n",
      "Epoch 11/20\n",
      "\u001b[1m4388/4388\u001b[0m \u001b[32m━━━━━━━━━━━━━━━━━━━━\u001b[0m\u001b[37m\u001b[0m \u001b[1m7s\u001b[0m 1ms/step - loss: 0.0011 - mae: 0.0178 - val_loss: 0.0011 - val_mae: 0.0180\n",
      "Epoch 12/20\n",
      "\u001b[1m4388/4388\u001b[0m \u001b[32m━━━━━━━━━━━━━━━━━━━━\u001b[0m\u001b[37m\u001b[0m \u001b[1m7s\u001b[0m 1ms/step - loss: 0.0011 - mae: 0.0179 - val_loss: 0.0010 - val_mae: 0.0171\n",
      "Epoch 13/20\n",
      "\u001b[1m4388/4388\u001b[0m \u001b[32m━━━━━━━━━━━━━━━━━━━━\u001b[0m\u001b[37m\u001b[0m \u001b[1m7s\u001b[0m 2ms/step - loss: 0.0011 - mae: 0.0176 - val_loss: 0.0010 - val_mae: 0.0176\n",
      "Epoch 14/20\n",
      "\u001b[1m4388/4388\u001b[0m \u001b[32m━━━━━━━━━━━━━━━━━━━━\u001b[0m\u001b[37m\u001b[0m \u001b[1m6s\u001b[0m 1ms/step - loss: 0.0010 - mae: 0.0175 - val_loss: 0.0011 - val_mae: 0.0176\n",
      "Epoch 15/20\n",
      "\u001b[1m4388/4388\u001b[0m \u001b[32m━━━━━━━━━━━━━━━━━━━━\u001b[0m\u001b[37m\u001b[0m \u001b[1m6s\u001b[0m 1ms/step - loss: 0.0010 - mae: 0.0173 - val_loss: 0.0010 - val_mae: 0.0175\n",
      "Epoch 16/20\n",
      "\u001b[1m4388/4388\u001b[0m \u001b[32m━━━━━━━━━━━━━━━━━━━━\u001b[0m\u001b[37m\u001b[0m \u001b[1m7s\u001b[0m 2ms/step - loss: 0.0010 - mae: 0.0174 - val_loss: 0.0011 - val_mae: 0.0176\n",
      "Epoch 17/20\n",
      "\u001b[1m4388/4388\u001b[0m \u001b[32m━━━━━━━━━━━━━━━━━━━━\u001b[0m\u001b[37m\u001b[0m \u001b[1m7s\u001b[0m 2ms/step - loss: 0.0011 - mae: 0.0177 - val_loss: 0.0011 - val_mae: 0.0174\n",
      "Epoch 18/20\n",
      "\u001b[1m4388/4388\u001b[0m \u001b[32m━━━━━━━━━━━━━━━━━━━━\u001b[0m\u001b[37m\u001b[0m \u001b[1m7s\u001b[0m 2ms/step - loss: 0.0011 - mae: 0.0176 - val_loss: 0.0010 - val_mae: 0.0169\n",
      "Epoch 19/20\n",
      "\u001b[1m4388/4388\u001b[0m \u001b[32m━━━━━━━━━━━━━━━━━━━━\u001b[0m\u001b[37m\u001b[0m \u001b[1m7s\u001b[0m 1ms/step - loss: 0.0010 - mae: 0.0173 - val_loss: 0.0011 - val_mae: 0.0178\n",
      "Epoch 20/20\n",
      "\u001b[1m4388/4388\u001b[0m \u001b[32m━━━━━━━━━━━━━━━━━━━━\u001b[0m\u001b[37m\u001b[0m \u001b[1m7s\u001b[0m 2ms/step - loss: 0.0010 - mae: 0.0173 - val_loss: 0.0011 - val_mae: 0.0186\n"
     ]
    }
   ],
   "source": [
    "model =  Sequential()\n",
    "model.add(Input(shape=(3,3,1)))\n",
    "\n",
    "# Adjust kernel size or remove max pooling to prevent shrinking\n",
    "model.add(Conv2D(32, kernel_size=(1, 1), activation='relu'))\n",
    "# You can consider removing pooling for very small inputs\n",
    "model.add(Conv2D(64, kernel_size=(2, 2), activation='relu'))\n",
    "\n",
    "model.add(Flatten())\n",
    "model.add(Dense(128, activation='relu'))\n",
    "model.add(Dense(1, activation='linear'))\n",
    "\n",
    "model.compile(optimizer= Adam(),\n",
    "             loss= \"mse\",\n",
    "             metrics=[\"mae\"])\n",
    "\n",
    "history = model.fit(X_train, y_train, epochs=20, batch_size=30, validation_split=0.2)"
   ]
  },
  {
   "cell_type": "code",
   "execution_count": 27,
   "id": "f78e0d7d-6222-4b25-8e14-ac26bd36f5c2",
   "metadata": {},
   "outputs": [
    {
     "name": "stdout",
     "output_type": "stream",
     "text": [
      "\u001b[1m908/908\u001b[0m \u001b[32m━━━━━━━━━━━━━━━━━━━━\u001b[0m\u001b[37m\u001b[0m \u001b[1m1s\u001b[0m 779us/step - loss: 0.0012 - mae: 0.0186\n",
      "Loss : 0.0011615670518949628\n",
      "MAE : 0.018468722701072693\n"
     ]
    }
   ],
   "source": [
    "loss, mae = model.evaluate(X_test, y_test)\n",
    "print(f\"Loss : {loss}\")\n",
    "print(f\"MAE : {mae}\")"
   ]
  },
  {
   "cell_type": "code",
   "execution_count": 28,
   "id": "2da1c007-30fd-4bb2-8ef2-1b7ff2e8bcc0",
   "metadata": {},
   "outputs": [
    {
     "name": "stdout",
     "output_type": "stream",
     "text": [
      "\u001b[1m908/908\u001b[0m \u001b[32m━━━━━━━━━━━━━━━━━━━━\u001b[0m\u001b[37m\u001b[0m \u001b[1m1s\u001b[0m 867us/step\n"
     ]
    }
   ],
   "source": [
    "predictions = model.predict(X_test)"
   ]
  },
  {
   "cell_type": "markdown",
   "id": "80438b36-5f5d-492b-be80-e97646f6c038",
   "metadata": {},
   "source": [
    "### Scale back the normalized values"
   ]
  },
  {
   "cell_type": "code",
   "execution_count": 30,
   "id": "bd9da4b8-9bbf-43b4-8133-20ef1c17a870",
   "metadata": {},
   "outputs": [
    {
     "name": "stdout",
     "output_type": "stream",
     "text": [
      "Actual price: [473.]\n",
      "Predicted price: [482.5921]\n",
      "Actual price: [15984.]\n",
      "Predicted price: [14744.077]\n",
      "Actual price: [14844.]\n",
      "Predicted price: [15522.348]\n",
      "Actual price: [1260.]\n",
      "Predicted price: [1520.7169]\n",
      "Actual price: [1334.]\n",
      "Predicted price: [1257.2878]\n",
      "Actual price: [491.]\n",
      "Predicted price: [519.2032]\n"
     ]
    }
   ],
   "source": [
    "scaledback_predictions = scaler.inverse_transform(predictions)\n",
    "scaledback_labels = scaler.inverse_transform(y_test)\n",
    "\n",
    "for i in range(6):\n",
    "    print(\"Actual price:\", scaledback_labels[i])\n",
    "    print(\"Predicted price:\", scaledback_predictions[i])"
   ]
  },
  {
   "cell_type": "markdown",
   "id": "0ceb92a5-4681-49ec-90a6-d2fb7d92801c",
   "metadata": {},
   "source": [
    "### Plot the performances"
   ]
  },
  {
   "cell_type": "code",
   "execution_count": 32,
   "id": "d1dfe714-018f-43ff-9e83-7337b479ed23",
   "metadata": {},
   "outputs": [
    {
     "data": {
      "image/png": "[encoded data removed]",
      "text/plain": [
       "<Figure size 640x480 with 1 Axes>"
      ]
     },
     "metadata": {},
     "output_type": "display_data"
    }
   ],
   "source": [
    "plt.plot(history.history['loss'], label='Train_loss')\n",
    "plt.plot(history.history['val_loss'], label='Val_loss')\n",
    "plt.title('Model Loss')\n",
    "plt.ylabel('Loss')\n",
    "plt.xlabel('Epoch')\n",
    "plt.legend(loc='upper right')\n",
    "plt.show()"
   ]
  },
  {
   "cell_type": "code",
   "execution_count": 33,
   "id": "034d99bb-ef7f-4245-8fca-cb1208a26d8c",
   "metadata": {},
   "outputs": [
    {
     "data": {
      "image/png": "[encoded data removed]",
      "text/plain": [
       "<Figure size 640x480 with 1 Axes>"
      ]
     },
     "metadata": {},
     "output_type": "display_data"
    }
   ],
   "source": [
    "plt.plot(history.history['mae'], label='Train_mae')\n",
    "plt.plot(history.history['val_mae'], label='Val_mae')\n",
    "plt.title('Model MAE')\n",
    "plt.ylabel('Mean Absolute Error')\n",
    "plt.xlabel('Epoch')\n",
    "plt.legend(loc='upper right')\n",
    "plt.show()"
   ]
  },
  {
   "cell_type": "code",
   "execution_count": null,
   "id": "2b6ffe4f-760a-495e-a424-1a006f89720d",
   "metadata": {},
   "outputs": [],
   "source": []
  }
 ],
 "metadata": {
  "kernelspec": {
   "display_name": "Python 3 (ipykernel)",
   "language": "python",
   "name": "python3"
  },
  "language_info": {
   "codemirror_mode": {
    "name": "ipython",
    "version": 3
   },
   "file_extension": ".py",
   "mimetype": "text/x-python",
   "name": "python",
   "nbconvert_exporter": "python",
   "pygments_lexer": "ipython3",
   "version": "3.11.7"
  }
 },
 "nbformat": 4,
 "nbformat_minor": 5
}
